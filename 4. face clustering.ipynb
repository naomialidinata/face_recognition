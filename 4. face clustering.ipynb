{
 "cells": [
  {
   "cell_type": "markdown",
   "metadata": {},
   "source": [
    "# Face Clustering\n",
    "\n",
    "Face clustering is an unsupervised learning task to find unique faces in a group of unlabeled faces. I have created a module `FacialClustering`, that will cluster faces using two methods: `DBSCAN` and `chinese whispers`, utilizing the facial embedding models from the previous notebooks. "
   ]
  }
 ],
 "metadata": {
  "language_info": {
   "name": "python"
  },
  "orig_nbformat": 4
 },
 "nbformat": 4,
 "nbformat_minor": 2
}
