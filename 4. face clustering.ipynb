{
 "cells": [
  {
   "cell_type": "markdown",
   "metadata": {},
   "source": [
    "# Face Clustering\n",
    "\n",
    "Face clustering is an unsupervised learning task to find unique faces in a group of unlabeled faces. I have created a module `FacialClustering`, that will cluster faces using two methods: `DBSCAN` and `chinese_whispers`, utilizing the facial embedding models from the previous notebooks. "
   ]
  },
  {
   "cell_type": "code",
   "execution_count": 8,
   "metadata": {},
   "outputs": [],
   "source": [
    "# The module takes a FacePreprocess class as input\n",
    "# I designed it this way since we need to load the ssd model and weights\n",
    "from modules.FacePreprocess import FacePreprocess\n",
    "ssd_model = r'./models/ssd/deploy.prototxt.txt'\n",
    "ssd_weights = r'./models/ssd/res10_300x300_ssd_iter_140000.caffemodel'\n",
    "processor = FacePreprocess(ssd_model, ssd_weights)"
   ]
  },
  {
   "cell_type": "markdown",
   "metadata": {},
   "source": [
    "## Initialize the `FacialClustering` module"
   ]
  },
  {
   "cell_type": "code",
   "execution_count": 9,
   "metadata": {},
   "outputs": [],
   "source": [
    "from modules.FacialClustering import FacialClustering\n",
    "\n",
    "# set input paths --> make sure that every image inside the directory ends with '.jpg' or '.png'\n",
    "input_paths = [\n",
    "    '.\\dataset'\n",
    "]\n",
    "output_path = '.\\output\\\\face_clustering'\n",
    "cluster = FacialClustering(\n",
    "    pathlist = input_paths, \n",
    "    processor = processor, \n",
    "    out_path = output_path,\n",
    "    preprocess = True, # since the images in our dataset hasn't been preprocessed, set this as True\n",
    ")"
   ]
  },
  {
   "cell_type": "markdown",
   "metadata": {},
   "source": [
    "If the module loads correctly, you should see a `log.txt` file inside your output directory. This file will log all the clustering parameters we used."
   ]
  },
  {
   "cell_type": "markdown",
   "metadata": {},
   "source": [
    "## Method 1: Chinese Whispers\n",
    "\n",
    "reference: \n",
    "- https://github.com/zhly0/facenet-face-cluster-chinese-whispers-/blob/master/clustering.py \n",
    "- https://en.wikipedia.org/wiki/Chinese_whispers_(clustering_method) "
   ]
  },
  {
   "cell_type": "code",
   "execution_count": 10,
   "metadata": {},
   "outputs": [],
   "source": [
    "cluster.chinese_whispers(\n",
    "    FE = 'kv-resnet50', # choose your best feature extractor\n",
    "    threshold = 8000, # min distance between clusters\n",
    "    iterations = 3000, # number of iterations\n",
    "    saveas = False, # save a copy of the clustered faces\n",
    ")"
   ]
  },
  {
   "cell_type": "markdown",
   "metadata": {},
   "source": [
    "It takes trial and error to adjust the threshold and number of iterations, so take your time. The `log.txt` file will keep a history of all the clustering results with the parameters used (as long as you're using the same `FacialClustering` instance), and every call to the clustering function will output an excel file containing the clustering results. You can choose to make a copy of the clustered faces separated into its own folders using the `saveas` parameter."
   ]
  },
  {
   "cell_type": "markdown",
   "metadata": {},
   "source": [
    "## Method 2: DBSCAN\n",
    "\n",
    "reference:\n",
    "- https://scikit-learn.org/stable/modules/generated/sklearn.cluster.DBSCAN.html \n",
    "- https://en.wikipedia.org/wiki/DBSCAN \n",
    "- https://github.com/AsutoshPati/Face-Clustering-using-DBSCAN "
   ]
  },
  {
   "cell_type": "code",
   "execution_count": 11,
   "metadata": {},
   "outputs": [],
   "source": [
    "cluster.DBSCAN(\n",
    "    FE = 'kv-resnet50', # choose your best feature extractor\n",
    "    eps = 75, # epsilon -> maximum distance between two samples in the same cluster\n",
    "    min_samples = 3, # min number of samples in a neighbourhood\n",
    "    metric = 'euclidean', # distance metric\n",
    "    saveas = False, # save a copy of the clustered faces\n",
    ")"
   ]
  },
  {
   "cell_type": "markdown",
   "metadata": {},
   "source": [
    "The metrics available are metrics that are allowed by [sklearn.metrics.pairwise_distances](https://scikit-learn.org/stable/modules/generated/sklearn.metrics.pairwise_distances.html#sklearn.metrics.pairwise_distances). \n",
    "\n",
    "The epsilon should be as small as possible. The logic is if it's too large all the faces will be clustered into the same cluster, however if it's too small, it will be labeled as `no_class`. "
   ]
  },
  {
   "cell_type": "markdown",
   "metadata": {},
   "source": [
    "## Conclusion\n",
    "\n",
    "This notebook is a tutorial on how to use the `FacialClustering` module. I didn't write the algorithms myself, so a huge thanks to [zhly0](https://github.com/zhly0/) and [AsutoshPati](https://github.com/AsutoshPati/)! I compiled their codes into the same class to make it easier to test out the different algorithms and parameters.\n",
    "\n",
    "Remember that for face recognition tasks (or basically any machine learning task), it takes trial and error to find the right model and configurations, so I hope you find this notebook useful!"
   ]
  }
 ],
 "metadata": {
  "kernelspec": {
   "display_name": "Python 3.9.15 ('deepface')",
   "language": "python",
   "name": "python3"
  },
  "language_info": {
   "codemirror_mode": {
    "name": "ipython",
    "version": 3
   },
   "file_extension": ".py",
   "mimetype": "text/x-python",
   "name": "python",
   "nbconvert_exporter": "python",
   "pygments_lexer": "ipython3",
   "version": "3.9.15"
  },
  "orig_nbformat": 4,
  "vscode": {
   "interpreter": {
    "hash": "a8d291e76e21ac4114bb3934f79c9cd83293577e20f5f8f5d14a21fd0b06f79d"
   }
  }
 },
 "nbformat": 4,
 "nbformat_minor": 2
}
