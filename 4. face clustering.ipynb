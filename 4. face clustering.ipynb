{
 "cells": [
  {
   "cell_type": "markdown",
   "metadata": {},
   "source": [
    "# Face Clustering\n",
    "\n",
    "Face clustering is an unsupervised learning task to find unique faces in a group of unlabeled faces. I have created a module `FacialClustering`, that will cluster faces using two methods: `DBSCAN` and `chinese_whispers`, utilizing the facial embedding models from the previous notebooks. "
   ]
  },
  {
   "cell_type": "code",
   "execution_count": 1,
   "metadata": {},
   "outputs": [],
   "source": [
    "# The module takes a FacePreprocess class as input\n",
    "# I designed it this way since we need to load the ssd model and weights\n",
    "from modules.FacePreprocess import FacePreprocess\n",
    "ssd_model = r'./models/ssd/deploy.prototxt.txt'\n",
    "ssd_weights = r'./models/ssd/res10_300x300_ssd_iter_140000.caffemodel'\n",
    "processor = FacePreprocess(ssd_model, ssd_weights)"
   ]
  },
  {
   "cell_type": "markdown",
   "metadata": {},
   "source": [
    "## Initialize the `FacialClustering` module"
   ]
  },
  {
   "cell_type": "code",
   "execution_count": 2,
   "metadata": {},
   "outputs": [],
   "source": [
    "from modules.FacialClustering import FacialClustering\n",
    "\n",
    "# set input paths --> make sure that every image inside the directory ends with '.jpg' or '.png'\n",
    "input_paths = [\n",
    "    '.\\dataset'\n",
    "]\n",
    "output_path = '.\\output\\\\face_clustering'\n",
    "cluster = FacialClustering(\n",
    "    pathlist = input_paths, \n",
    "    processor = processor, \n",
    "    out_path = output_path,\n",
    "    preprocess = True, # since the images in our dataset hasn't been preprocessed, set this as True\n",
    ")"
   ]
  },
  {
   "cell_type": "markdown",
   "metadata": {},
   "source": [
    "If the module loads correctly, you should see a `log.txt` file inside your output directory. This file will log all the clustering parameters we used."
   ]
  },
  {
   "cell_type": "markdown",
   "metadata": {},
   "source": [
    "## Method 1: Chinese Whispers\n",
    "\n",
    "reference: \n",
    "- https://github.com/zhly0/facenet-face-cluster-chinese-whispers-/blob/master/clustering.py \n",
    "- https://en.wikipedia.org/wiki/Chinese_whispers_(clustering_method) "
   ]
  },
  {
   "cell_type": "code",
   "execution_count": 4,
   "metadata": {},
   "outputs": [],
   "source": [
    "cluster.chinese_whispers(\n",
    "    FE = 'kv-resnet50',\n",
    "    threshold = 0.75, # min distance between clusters\n",
    "    iterations = 100, # number of iterations\n",
    "    saveas = False, # save a copy of the clustered faces\n",
    ")"
   ]
  }
 ],
 "metadata": {
  "kernelspec": {
   "display_name": "Python 3.9.15 ('deepface')",
   "language": "python",
   "name": "python3"
  },
  "language_info": {
   "codemirror_mode": {
    "name": "ipython",
    "version": 3
   },
   "file_extension": ".py",
   "mimetype": "text/x-python",
   "name": "python",
   "nbconvert_exporter": "python",
   "pygments_lexer": "ipython3",
   "version": "3.9.15"
  },
  "orig_nbformat": 4,
  "vscode": {
   "interpreter": {
    "hash": "a8d291e76e21ac4114bb3934f79c9cd83293577e20f5f8f5d14a21fd0b06f79d"
   }
  }
 },
 "nbformat": 4,
 "nbformat_minor": 2
}
