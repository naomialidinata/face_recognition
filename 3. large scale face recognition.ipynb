{
 "cells": [
  {
   "cell_type": "markdown",
   "metadata": {},
   "source": [
    "# Large Scale Face recognition\n",
    "\n",
    "What if your dataset contains thousands of identities, with thousands of pictures for each of them? It will be impossible to compare their embeddings one-by-one to find the closest match. This notebook will show you how to use `NMSLIB`, a similarity search library based on approximate nearest neighbors (ANN).\n",
    "\n",
    "source: https://github.com/nmslib/nmslib "
   ]
  },
  {
   "cell_type": "markdown",
   "metadata": {},
   "source": []
  }
 ],
 "metadata": {
  "language_info": {
   "name": "python"
  },
  "orig_nbformat": 4
 },
 "nbformat": 4,
 "nbformat_minor": 2
}
