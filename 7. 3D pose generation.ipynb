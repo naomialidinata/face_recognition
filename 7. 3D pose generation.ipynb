{
 "cells": [
  {
   "cell_type": "markdown",
   "metadata": {},
   "source": [
    "# 3D Pose Generation\n",
    "\n",
    "With `NextFace`, we can generate a face with various poses from a single image. This is useful when we want to expand our database, in cases where we only have a single image/subject.\n",
    "\n",
    "For more details, check out their [repository](https://github.com/abdallahdib/NextFace)!"
   ]
  },
  {
   "cell_type": "markdown",
   "metadata": {},
   "source": [
    "For this notebook, you need a different working environment from the previous notebooks. For the installation guide, please refer [here](https://github.com/abdallahdib/NextFace/blob/main/INSTALL).\n",
    "\n",
    "Or, in your Anaconda Prompt, run these commands\n",
    "\n",
    "    conda create --name faceNext python=3.6.7\n",
    "    conda activate faceNext\n",
    "    conda install pytorch==1.3.1 torchvision==0.4.2 cudatoolkit=10.1 -c pytorch\n",
    "    pip install redner-gpu\n",
    "    conda install -c conda-forge opencv\n",
    "    conda install -c 1adrianb face_alignment=1.2.0\n",
    "    conda install -c anaconda h5py\n",
    "    pip install mediapipe"
   ]
  },
  {
   "cell_type": "code",
   "execution_count": null,
   "metadata": {},
   "outputs": [],
   "source": [
    "from optimizer import Optimizer\n",
    "from config import Config\n",
    "from utils import *\n",
    "import math\n",
    "from image import saveImage\n",
    "import json"
   ]
  },
  {
   "cell_type": "code",
   "execution_count": 6,
   "metadata": {},
   "outputs": [
    {
     "ename": "ModuleNotFoundError",
     "evalue": "No module named 'pyredner'",
     "output_type": "error",
     "traceback": [
      "\u001b[1;31m---------------------------------------------------------------------------\u001b[0m",
      "\u001b[1;31mModuleNotFoundError\u001b[0m                       Traceback (most recent call last)",
      "Cell \u001b[1;32mIn[6], line 1\u001b[0m\n\u001b[1;32m----> 1\u001b[0m \u001b[38;5;28;01mfrom\u001b[39;00m \u001b[38;5;21;01mmodels\u001b[39;00m\u001b[38;5;21;01m.\u001b[39;00m\u001b[38;5;21;01mNextFace\u001b[39;00m\u001b[38;5;21;01m.\u001b[39;00m\u001b[38;5;21;01moptimizer\u001b[39;00m \u001b[38;5;28;01mimport\u001b[39;00m optimizer\n",
      "File \u001b[1;32mc:\\Temp\\Downloads\\face_recognition\\models\\NextFace\\optimizer.py:7\u001b[0m\n\u001b[0;32m      4\u001b[0m \u001b[39mfrom\u001b[39;00m \u001b[39mprojection\u001b[39;00m \u001b[39mimport\u001b[39;00m estimateCameraPosition\n\u001b[0;32m      6\u001b[0m \u001b[39mfrom\u001b[39;00m \u001b[39mtextureloss\u001b[39;00m \u001b[39mimport\u001b[39;00m TextureLoss\n\u001b[1;32m----> 7\u001b[0m \u001b[39mfrom\u001b[39;00m \u001b[39mpipeline\u001b[39;00m \u001b[39mimport\u001b[39;00m Pipeline\n\u001b[0;32m      8\u001b[0m \u001b[39mfrom\u001b[39;00m \u001b[39mconfig\u001b[39;00m \u001b[39mimport\u001b[39;00m Config\n\u001b[0;32m      9\u001b[0m \u001b[39mfrom\u001b[39;00m \u001b[39mutils\u001b[39;00m \u001b[39mimport\u001b[39;00m \u001b[39m*\u001b[39m\n",
      "File \u001b[1;32mc:\\Temp\\Downloads\\face_recognition\\models\\NextFace\\pipeline.py:3\u001b[0m\n\u001b[0;32m      1\u001b[0m \u001b[39mfrom\u001b[39;00m \u001b[39msphericalharmonics\u001b[39;00m \u001b[39mimport\u001b[39;00m SphericalHarmonics\n\u001b[0;32m      2\u001b[0m \u001b[39mfrom\u001b[39;00m \u001b[39mmorphablemodel\u001b[39;00m \u001b[39mimport\u001b[39;00m MorphableModel\n\u001b[1;32m----> 3\u001b[0m \u001b[39mfrom\u001b[39;00m \u001b[39mrenderer\u001b[39;00m \u001b[39mimport\u001b[39;00m Renderer\n\u001b[0;32m      4\u001b[0m \u001b[39mfrom\u001b[39;00m \u001b[39mcamera\u001b[39;00m \u001b[39mimport\u001b[39;00m Camera\n\u001b[0;32m      5\u001b[0m \u001b[39mfrom\u001b[39;00m \u001b[39mutils\u001b[39;00m \u001b[39mimport\u001b[39;00m \u001b[39m*\u001b[39m\n",
      "File \u001b[1;32mc:\\Temp\\Downloads\\face_recognition\\models\\NextFace\\renderer.py:3\u001b[0m\n\u001b[0;32m      1\u001b[0m \u001b[39mimport\u001b[39;00m \u001b[39mtorch\u001b[39;00m\n\u001b[0;32m      2\u001b[0m \u001b[39mimport\u001b[39;00m \u001b[39mmath\u001b[39;00m\n\u001b[1;32m----> 3\u001b[0m \u001b[39mimport\u001b[39;00m \u001b[39mpyredner\u001b[39;00m\n\u001b[0;32m      4\u001b[0m \u001b[39mimport\u001b[39;00m \u001b[39mredner\u001b[39;00m\n\u001b[0;32m      5\u001b[0m \u001b[39mimport\u001b[39;00m \u001b[39mrandom\u001b[39;00m\n",
      "\u001b[1;31mModuleNotFoundError\u001b[0m: No module named 'pyredner'"
     ]
    }
   ],
   "source": [
    "from models.NextFace.optimizer import optimizer"
   ]
  }
 ],
 "metadata": {
  "kernelspec": {
   "display_name": "Python 3.9.15 ('deepface')",
   "language": "python",
   "name": "python3"
  },
  "language_info": {
   "codemirror_mode": {
    "name": "ipython",
    "version": 3
   },
   "file_extension": ".py",
   "mimetype": "text/x-python",
   "name": "python",
   "nbconvert_exporter": "python",
   "pygments_lexer": "ipython3",
   "version": "3.9.15"
  },
  "orig_nbformat": 4,
  "vscode": {
   "interpreter": {
    "hash": "a8d291e76e21ac4114bb3934f79c9cd83293577e20f5f8f5d14a21fd0b06f79d"
   }
  }
 },
 "nbformat": 4,
 "nbformat_minor": 2
}
